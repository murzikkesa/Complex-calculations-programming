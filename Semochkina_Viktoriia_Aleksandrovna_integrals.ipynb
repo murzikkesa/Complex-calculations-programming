{
 "cells": [
  {
   "cell_type": "markdown",
   "metadata": {
    "collapsed": true
   },
   "source": [
    "1.Разработать программу, реализующую интегрирование заданной функции методом средних прямоугольников (или иным методом, на выбор) с адаптивной сеткой.  \n",
    "2.Сравнить скорость сходимости данного метода и метода с равномерной сеткой.  \n",
    "Указание: для выбора \"наибольшего интервала\" воспользуйтесь модулем \"heapq\" из стандартной библиотеки."
   ]
  },
  {
   "cell_type": "code",
   "execution_count": null,
   "metadata": {},
   "outputs": [],
   "source": [
    "import numpy as np\n",
    "import heapq\n",
    "import matplotlib.pyplot as plt"
   ]
  },
  {
   "cell_type": "code",
   "execution_count": 44,
   "metadata": {},
   "outputs": [],
   "source": [
    "def create_rectangle(a, b, f):\n",
    "    \"\"\"Создадим прямоугольник на интервале [a,b]\"\"\"\n",
    "    rectangle = (a, b-a)\n",
    "    xm = a + rectangle[1] / 2.\n",
    "    return (f(xm) * rectangle[1], rectangle)"
   ]
  },
  {
   "cell_type": "code",
   "execution_count": null,
   "metadata": {},
   "outputs": [],
   "source": [
    "def max_element(lst):\n",
    "    \"\"\"Найдем прямоугольник с максимальной площадью с помощью сортировки heapq. Вернем этот элемент в хвост списка\"\"\"\n",
    "    heapq.heapify(lst)\n",
    "    \n",
    "    return lst[-1],lst[:-1]"
   ]
  },
  {
   "cell_type": "code",
   "execution_count": 58,
   "metadata": {},
   "outputs": [],
   "source": [
    "def adaptive_method_list(f, a, b, npts):\n",
    "    \"\"\"Интегрируем данную функцию методом средних прямоугольников с адаптивной сеткой\n",
    "    \"\"\"\n",
    "    lst = []\n",
    "    # start from a single rectangle\n",
    "    item = make_rect(a, b, f)\n",
    "    lst.append(item)\n",
    "    # loop\n",
    "    for _ in range(npts):\n",
    "        # get the largest one\n",
    "        rect, lst = get_max_elem(lst)\n",
    "        w, (start, width) = rect\n",
    "                \n",
    "        # and split it into two halves\n",
    "        c = start + width / 2.\n",
    "        \n",
    "        rect1 = make_rect(start, c, f)\n",
    "        rect2 = make_rect(c, start + width, f)\n",
    "        \n",
    "        lst.append(rect1)\n",
    "        lst.append(rect2)\n",
    "    # collect the answer\n",
    "    return sum(w for w, r in lst), lst\n"
   ]
  },
  {
   "cell_type": "code",
   "execution_count": 72,
   "metadata": {},
   "outputs": [],
   "source": [
    "def calculate(f, a, b, npts):\n",
    "    h = (b - a) / npts\n",
    "    summ = 0\n",
    "    for _ in range(npts):\n",
    "        x = a + h*(_ + 0.5)\n",
    "        summ+= f(x)\n",
    "    return summ * h"
   ]
  },
  {
   "cell_type": "code",
   "execution_count": 73,
   "metadata": {},
   "outputs": [],
   "source": [
    "def f(x):\n",
    "    \"\"\"Определим функцию,интеграл для которой мы сможем найти\"\"\"\n",
    "    return (np.sin(-x))"
   ]
  },
  {
   "cell_type": "code",
   "execution_count": 74,
   "metadata": {},
   "outputs": [
    {
     "name": "stdout",
     "output_type": "stream",
     "text": [
      "n, res =  5 -37.23286763848179\nn, res =  25 -59.5530247810548\nn, res =  125 -59.77129076020876\nn, res =  250 -59.77415190562149\nn, res =  500 -59.77464653570803\nn, res =  1000 -59.77476031102863\n"
     ]
    },
    {
     "name": "stdout",
     "output_type": "stream",
     "text": [
      "n, res =  5000 -59.774791895718934\nТочное значение: 0.006737946999085467\n"
     ]
    }
   ],
   "source": [
    "\"\"\"Определим начало и конец интервала а и b\"\"\"\n",
    "a, b = 5, 100\n",
    "\n",
    "def exact_value(a, b):\n",
    "    \"\"\"Найдем точное значение интеграла\"\"\"\n",
    "    return (-np.sin(-b)+np.sin(-a))\n",
    "\n",
    "for n in (5, 25, 125, 250, 500, 1000, 5000):\n",
    "    res, lst = adaptive_method_list(f, a, b, n)\n",
    "    print ('n, res = ', n, res)\n",
    "print ('Точное значение:', exact(a,b))"
   ]
  },
  {
   "cell_type": "code",
   "execution_count": 76,
   "metadata": {},
   "outputs": [
    {
     "name": "stdout",
     "output_type": "stream",
     "text": [
      "10 loops, best of 3: 102 ms per loop\n"
     ]
    }
   ],
   "source": [
    "%timeit adaptive_method_list (f, a, b, npts=1000)"
   ]
  },
  {
   "cell_type": "code",
   "execution_count": 83,
   "metadata": {},
   "outputs": [
    {
     "data": {
      "image/png": "[encoded data removed]",
      "text/plain": [
       "<Figure size 432x288 with 1 Axes>"
      ]
     },
     "metadata": {},
     "output_type": "display_data"
    }
   ],
   "source": [
    "res1 = []\n",
    "res2 = []\n",
    "a, b = 0, 20\n",
    "npts = [5, 10, 15, 20, 25, 30, 35, 40, 45, 50, 55, 60, 65, 70, 75, 80]\n",
    "for _ in npts:\n",
    "    res1.append(abs(adaptive_method_list(f, a, b, _)[0]-exact_value(a,b)))\n",
    "    res2.append(abs(calculate(f,a,b,_)-exact_value(a,b)))\n",
    "\n",
    "plt.figure()\n",
    "plt.plot(npts,res1,label = 'Адаптивная сетка')\n",
    "plt.plot(npts,res2,label = 'Равномерная сетка')\n",
    "plt.ylabel('Ошибка')\n",
    "plt.xlabel('n')\n",
    "plt.legend()\n",
    "plt.plot()\n",
    "plt.show()"
   ]
  },
  {
   "cell_type": "markdown",
   "metadata": {},
   "source": [
    "Вывод: интегрирование заданной функции с помощью метода средних прямоугольников с адаптивной сеткой сходится быстрее, чем с равномерной сеткой."
   ]
  },
  {
   "cell_type": "code",
   "execution_count": null,
   "metadata": {},
   "outputs": [],
   "source": []
  }
 ],
 "metadata": {
  "kernelspec": {
   "display_name": "Python 2",
   "language": "python",
   "name": "python2"
  },
  "language_info": {
   "codemirror_mode": {
    "name": "ipython",
    "version": 2
   },
   "file_extension": ".py",
   "mimetype": "text/x-python",
   "name": "python",
   "nbconvert_exporter": "python",
   "pygments_lexer": "ipython2",
   "version": "2.7.6"
  }
 },
 "nbformat": 4,
 "nbformat_minor": 0
}
