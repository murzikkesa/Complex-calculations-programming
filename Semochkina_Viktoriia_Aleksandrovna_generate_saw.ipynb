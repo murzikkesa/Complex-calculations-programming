{
 "cells": [
  {
   "cell_type": "code",
   "execution_count": null,
   "metadata": {},
   "outputs": [],
   "source": [
    "Генерация решеточных блужданий. "
   ]
  },
  {
   "cell_type": "code",
   "execution_count": 28,
   "metadata": {},
   "outputs": [],
   "source": [
    "steps = [(1, 0), (-1, 0), (0, 1), (0, -1)]\n",
    "\n",
    "def generate_walks(path, L, cache):\n",
    "    if L == 0:\n",
    "        cache.append(path)\n",
    "    else:\n",
    "        for dx, dy in steps:\n",
    "            x, y = path[-1]\n",
    "            xy_new = (x + dx, y + dy)\n",
    "            pp = path.copy()\n",
    "            pp.append(xy_new)\n",
    "            generate_walks(pp, L - 1, cache)"
   ]
  },
  {
   "cell_type": "code",
   "execution_count": 30,
   "metadata": {},
   "outputs": [
    {
     "data": {
      "text/plain": [
       "16"
      ]
     },
     "execution_count": 30,
     "metadata": {},
     "output_type": "execute_result"
    }
   ],
   "source": [
    "# параметр counter характеризует сгенерированные блуждания\n",
    "counter = []\n",
    "generate_walks([(0, 0)], 2, counter)\n",
    "len(counter)"
   ]
  },
  {
   "cell_type": "code",
   "execution_count": 31,
   "metadata": {},
   "outputs": [
    {
     "data": {
      "text/plain": [
       "[[(0, 0), (1, 0), (2, 0)],\n",
       " [(0, 0), (1, 0), (0, 0)],\n",
       " [(0, 0), (1, 0), (1, 1)],\n",
       " [(0, 0), (1, 0), (1, -1)],\n",
       " [(0, 0), (-1, 0), (0, 0)],\n",
       " [(0, 0), (-1, 0), (-2, 0)],\n",
       " [(0, 0), (-1, 0), (-1, 1)],\n",
       " [(0, 0), (-1, 0), (-1, -1)],\n",
       " [(0, 0), (0, 1), (1, 1)],\n",
       " [(0, 0), (0, 1), (-1, 1)],\n",
       " [(0, 0), (0, 1), (0, 2)],\n",
       " [(0, 0), (0, 1), (0, 0)],\n",
       " [(0, 0), (0, -1), (1, -1)],\n",
       " [(0, 0), (0, -1), (-1, -1)],\n",
       " [(0, 0), (0, -1), (0, 0)],\n",
       " [(0, 0), (0, -1), (0, -2)]]"
      ]
     },
     "execution_count": 31,
     "metadata": {},
     "output_type": "execute_result"
    }
   ],
   "source": [
    "counter"
   ]
  },
  {
   "cell_type": "code",
   "execution_count": 32,
   "metadata": {},
   "outputs": [],
   "source": [
    "#Cоздем функцию для подсчета среднего всех расстояний между начальными и конечными координатами \n",
    "def average_distance(l):\n",
    "    walks = []\n",
    "    generate_walks([(0, 0)], l, walks)\n",
    "    \n",
    "    sum_dist_x = 0.0\n",
    "    sum_dist_y = 0.0\n",
    "    for walk in walks:\n",
    "        sum_dist_x = sum_dist_x + walk[-1][0]\n",
    "        sum_dist_y = sum_dist_y + walk[-1][1]\n",
    "    avg_x = sum_dist_x/(len(walks))\n",
    "    avg_y = sum_dist_y/(len(walks))\n",
    "    return (avg_x, avg_y)"
   ]
  },
  {
   "cell_type": "code",
   "execution_count": 33,
   "metadata": {},
   "outputs": [
    {
     "name": "stdout",
     "output_type": "stream",
     "text": [
      "(0.0, 0.0)\n",
      "(0.0, 0.0)\n",
      "(0.0, 0.0)\n",
      "(0.0, 0.0)\n",
      "(0.0, 0.0)\n",
      "(0.0, 0.0)\n"
     ]
    }
   ],
   "source": [
    "#завивисость среднего всех расстояний от количества шагов\n",
    "print(average_distance(2))\n",
    "print(average_distance(3))\n",
    "print(average_distance(4))\n",
    "print(average_distance(5))\n",
    "print(average_distance(6))\n",
    "print(average_distance(7))"
   ]
  },
  {
   "cell_type": "code",
   "execution_count": 34,
   "metadata": {},
   "outputs": [],
   "source": [
    "def scaling(l):\n",
    "    \n",
    "    walks = []\n",
    "    generate_walks([(0, 0)], l, walks)\n",
    "    \n",
    "    dist = 0.0\n",
    "    for walk in walks:\n",
    "        dist = dist + ((walk[-1][0])**2 + (walk[-1][1])**2)**(1/2)\n",
    "    dist = dist/(len(walks))\n",
    "    return (l, dist)"
   ]
  },
  {
   "cell_type": "code",
   "execution_count": 35,
   "metadata": {},
   "outputs": [
    {
     "name": "stdout",
     "output_type": "stream",
     "text": [
      "(2, 1.2071067811865477)\n",
      "(3, 1.5885254915624203)\n",
      "(4, 1.7532798363559174)\n",
      "(5, 2.0193315606071582)\n",
      "(6, 2.1612211221359865)\n",
      "(7, 2.374821460732043)\n"
     ]
    }
   ],
   "source": [
    "#зависимость средней расстояний между начальными и конечными координатами путей от числа шагов\n",
    "print(scaling(2))\n",
    "print(scaling(3))\n",
    "print(scaling(4))\n",
    "print(scaling(5))\n",
    "print(scaling(6))\n",
    "print(scaling(7))"
   ]
  },
  {
   "cell_type": "code",
   "execution_count": 37,
   "metadata": {},
   "outputs": [],
   "source": [
    "#фунцкия для подсчета квадрата среднего расстояния между начальным и конечными координатами путей от числа шагов\n",
    "def scaling_sq(n):\n",
    "    walks = []\n",
    "    generate_walks([(0, 0)], n, walks)\n",
    "    dist = 0.0\n",
    "    for walk in walks:\n",
    "        dist = dist + ((walk[-1][0])**2 + (walk[-1][1])**2)\n",
    "    dist = dist/(len(walks))\n",
    "    return (n, dist)"
   ]
  },
  {
   "cell_type": "code",
   "execution_count": 38,
   "metadata": {},
   "outputs": [
    {
     "name": "stdout",
     "output_type": "stream",
     "text": [
      "(2, 2.0)\n",
      "(3, 3.0)\n",
      "(4, 4.0)\n",
      "(5, 5.0)\n",
      "(6, 6.0)\n",
      "(7, 7.0)\n"
     ]
    }
   ],
   "source": [
    "#зависимость квадрата среднего расстояния между начальным и конечными координатами путей от числа шагов\n",
    "print(scaling_sq(2))\n",
    "print(scaling_sq(3))\n",
    "print(scaling_sq(4))\n",
    "print(scaling_sq(5))\n",
    "print(scaling_sq(6))\n",
    "print(scaling_sq(7))"
   ]
  },
  {
   "cell_type": "markdown",
   "metadata": {},
   "source": [
    "Посещаем узел решекти только один раз"
   ]
  },
  {
   "cell_type": "code",
   "execution_count": 39,
   "metadata": {},
   "outputs": [],
   "source": [
    "teps = [(1, 0), (-1, 0), (0, 1), (0, -1)]\n",
    "\n",
    "def generate_SAWs(path, L, cache):\n",
    "    \"\"\"Generate all random SAWs on the 2D square lattice.\"\"\"\n",
    "    if L == 0:\n",
    "        cache.append(path)\n",
    "    else:\n",
    "        for dx, dy in steps:\n",
    "            x, y = path[-1]\n",
    "            xy_new = (x + dx, y + dy)\n",
    "            if xy_new in path:\n",
    "                continue\n",
    "            pp = path.copy()\n",
    "            pp.append(xy_new)\n",
    "            generate_SAWs(pp, L - 1, cache)"
   ]
  },
  {
   "cell_type": "code",
   "execution_count": 40,
   "metadata": {},
   "outputs": [],
   "source": [
    "def number(l):\n",
    "    walks = []\n",
    "    generate_SAWs([(0,0)], l, walks)\n",
    "    print(len(walks))"
   ]
  },
  {
   "cell_type": "code",
   "execution_count": 41,
   "metadata": {},
   "outputs": [
    {
     "name": "stdout",
     "output_type": "stream",
     "text": [
      "12\n",
      "36\n",
      "100\n",
      "284\n",
      "780\n",
      "2172\n"
     ]
    }
   ],
   "source": [
    "number(2)\n",
    "number(3)\n",
    "number(4)\n",
    "number(5)\n",
    "number(6)\n",
    "number(7)"
   ]
  },
  {
   "cell_type": "code",
   "execution_count": 42,
   "metadata": {},
   "outputs": [],
   "source": [
    "#аналогично для SAW \n",
    "def scaling_2(l):\n",
    "    \n",
    "    walks = []\n",
    "    generate_SAWs([(0, 0)], l, walks)\n",
    "    \n",
    "    dist = 0.0\n",
    "    for walk in walks:\n",
    "        dist = dist + ((walk[-1][0])**2 + (walk[-1][1])**2)**(1/2)\n",
    "    dist = dist/(len(walks))\n",
    "    return (l, dist)"
   ]
  },
  {
   "cell_type": "code",
   "execution_count": 43,
   "metadata": {},
   "outputs": [
    {
     "name": "stdout",
     "output_type": "stream",
     "text": [
      "(2, 1.6094757082487303)\n",
      "(3, 2.046267540555414)\n",
      "(4, 2.5570255311726613)\n",
      "(5, 2.9512053136683383)\n",
      "(6, 3.3905293993647274)\n",
      "(7, 3.7476893934881423)\n"
     ]
    }
   ],
   "source": [
    "print(scaling_2(2))\n",
    "print(scaling_2(3))\n",
    "print(scaling_2(4))\n",
    "print(scaling_2(5))\n",
    "print(scaling_2(6))\n",
    "print(scaling_2(7))"
   ]
  },
  {
   "cell_type": "code",
   "execution_count": 44,
   "metadata": {},
   "outputs": [],
   "source": [
    "def scaling_sq_2(n):\n",
    "    walks = []\n",
    "    generate_SAWs([(0, 0)], n, walks)\n",
    "    dist = 0.0\n",
    "    for walk in walks:\n",
    "        dist = dist + ((walk[-1][0])**2 + (walk[-1][1])**2)\n",
    "    dist = dist/(len(walks))\n",
    "    return (n, dist)"
   ]
  },
  {
   "cell_type": "code",
   "execution_count": 45,
   "metadata": {},
   "outputs": [
    {
     "name": "stdout",
     "output_type": "stream",
     "text": [
      "(2, 2.6666666666666665)\n",
      "(3, 4.555555555555555)\n",
      "(4, 7.04)\n",
      "(5, 9.56338028169014)\n",
      "(6, 12.574358974358974)\n",
      "(7, 15.556169429097606)\n"
     ]
    }
   ],
   "source": [
    "print(scaling_sq_2(2))\n",
    "print(scaling_sq_2(3))\n",
    "print(scaling_sq_2(4))\n",
    "print(scaling_sq_2(5))\n",
    "print(scaling_sq_2(6))\n",
    "print(scaling_sq_2(7))"
   ]
  }
 ],
 "metadata": {
  "kernelspec": {
   "display_name": "Python 3",
   "language": "python",
   "name": "python3"
  },
  "language_info": {
   "codemirror_mode": {
    "name": "ipython",
    "version": 3
   },
   "file_extension": ".py",
   "mimetype": "text/x-python",
   "name": "python",
   "nbconvert_exporter": "python",
   "pygments_lexer": "ipython3",
   "version": "3.5.2"
  }
 },
 "nbformat": 4,
 "nbformat_minor": 2
}
