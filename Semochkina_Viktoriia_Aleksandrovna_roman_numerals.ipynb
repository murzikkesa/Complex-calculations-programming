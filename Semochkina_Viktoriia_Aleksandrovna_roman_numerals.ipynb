{
 "cells": [
  {
   "cell_type": "markdown",
   "metadata": {},
   "source": [
    "Перевод римских чисел в десятичные\n",
    "Следует написть функцию,которая получает римскую цифру, записанную в виде строки, и возвращает целое число, представляющее десятичную форму входного числа."
   ]
  },
  {
   "cell_type": "code",
   "execution_count": 54,
   "metadata": {},
   "outputs": [],
   "source": [
    "mapping = {\"I\" : 1, \n",
    "           \"V\" : 5,\n",
    "           \"X\" : 10,\n",
    "           \"L\" : 50,\n",
    "           \"C\" : 100,\n",
    "           \"D\" : 500,\n",
    "           \"M\" : 1000}"
   ]
  },
  {
   "cell_type": "code",
   "execution_count": 55,
   "metadata": {},
   "outputs": [],
   "source": [
    "def roman_to_decimal(rom):\n",
    "    \"\"\"\"Преобразовать римскую цифру в десятичную.\n",
    "    \n",
    "     параметры\n",
    "     ----------\n",
    "     rom: str\n",
    "         Римская цифра, представляющая положительное целое число.\n",
    "        \n",
    "     Возвращает\n",
    "     -------\n",
    "     dec: int\n",
    "         Результат преобразования `rom` в десятичную систему.\n",
    "    \"\"\"\n",
    "    ar = 0\n",
    "    dec = 0\n",
    "    \n",
    "    for i in range(len(rom)):\n",
    "        ar1 = ar\n",
    "        ar = mapping[rom[i]]\n",
    "        \n",
    "        if ar > ar1:\n",
    "            a = -2 * ar1\n",
    "        else:\n",
    "            a = 0\n",
    "        \n",
    "        dec = dec + a + ar\n",
    "    return dec"
   ]
  },
  {
   "cell_type": "markdown",
   "metadata": {},
   "source": [
    "Несколько тестов для проверки кода"
   ]
  },
  {
   "cell_type": "code",
   "execution_count": 56,
   "metadata": {},
   "outputs": [
    {
     "name": "stdout",
     "output_type": "stream",
     "text": [
      "True\n",
      "True\n",
      "True\n",
      "True\n",
      "True\n"
     ]
    }
   ],
   "source": [
    "test_pairs = [(\"IX\", 9), (\"XI\", 11), (\"MCCII\", 1202), (\"MMXVIII\", 2018), (\"XLIX\", 49)]\n",
    "\n",
    "for rom, dec in test_pairs:\n",
    "    converted = roman_to_decimal(rom)\n",
    "    print(converted == dec)"
   ]
  },
  {
   "cell_type": "markdown",
   "metadata": {},
   "source": [
    "Перевод десятичных чисел в римские"
   ]
  },
  {
   "cell_type": "code",
   "execution_count": 58,
   "metadata": {},
   "outputs": [],
   "source": [
    "mapping = {1: 'I', 4: 'IV', 5: 'V', 9: 'IX', 10: 'X', 40: 'XL', 50: 'L', 90: 'XC', 100: 'C', 400: 'CD', 500: 'D', 900: 'CM', 1000: 'M'}"
   ]
  },
  {
   "cell_type": "code",
   "execution_count": 59,
   "metadata": {},
   "outputs": [],
   "source": [
    "def decimal_to_roman(dec):\n",
    "    \"\"\"Перевести десятичную в римскую форму.\n",
    "    \n",
    "     параметры\n",
    "     ----------\n",
    "     dec: int\n",
    "         Положительное целое число\n",
    "    \n",
    "     Возвращает\n",
    "     -------\n",
    "     rom: str\n",
    "         Строковое представление формы римской цифры `dec`.\n",
    "    \"\"\"\n",
    "    rom = ''\n",
    "    \n",
    "    num = sorted(mapping.keys(), reverse=True)\n",
    "    \n",
    "    for i in num:\n",
    "        amount = int(dec / i)\n",
    "        rom += amount * mapping.get(i)\n",
    "        dec = dec - i * amount\n",
    "    return rom"
   ]
  },
  {
   "cell_type": "markdown",
   "metadata": {},
   "source": [
    "Контрольный тест"
   ]
  },
  {
   "cell_type": "code",
   "execution_count": 60,
   "metadata": {},
   "outputs": [
    {
     "name": "stdout",
     "output_type": "stream",
     "text": [
      "True\n",
      "True\n",
      "True\n",
      "True\n",
      "True\n"
     ]
    }
   ],
   "source": [
    "test_pairs = [(\"IX\", 9), (\"XI\", 11), (\"MCCII\", 1202), (\"MMXVIII\", 2018), (\"XLIX\", 49)]\n",
    "\n",
    "for rom, dec in test_pairs:\n",
    "    converted = decimal_to_roman(dec)\n",
    "    print(converted == rom)"
   ]
  }
 ],
 "metadata": {
  "kernelspec": {
   "display_name": "Python 3",
   "language": "python",
   "name": "python3"
  },
  "language_info": {
   "codemirror_mode": {
    "name": "ipython",
    "version": 3
   },
   "file_extension": ".py",
   "mimetype": "text/x-python",
   "name": "python",
   "nbconvert_exporter": "python",
   "pygments_lexer": "ipython3",
   "version": "3.5.2"
  }
 },
 "nbformat": 4,
 "nbformat_minor": 2
}
